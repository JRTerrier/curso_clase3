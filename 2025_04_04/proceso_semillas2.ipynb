{
 "cells": [
  {
   "cell_type": "markdown",
   "metadata": {},
   "source": [
    "## CURSO DE CAPACITACIÓN: ANÁLISIS DE IMÁGENES DIGITALES PARA EL FENOTIPADO VEGETAL"
   ]
  },
  {
   "cell_type": "markdown",
   "metadata": {},
   "source": [
    "### FLUJO DE TRABAJO PARA CONTAR Y MEDIR SEMILLAS"
   ]
  },
  {
   "cell_type": "markdown",
   "metadata": {},
   "source": [
    "## Sección 1. Importación de librerías e imagen"
   ]
  },
  {
   "cell_type": "code",
   "execution_count": null,
   "metadata": {},
   "outputs": [],
   "source": [
    "#Importanción de librerías\n",
    "import os\n",
    "#import argparse\n",
    "#import matplotlib\n",
    "import numpy as np\n",
    "from plantcv.parallel import WorkflowInputs\n",
    "from plantcv import plantcv as pcv\n",
    "import pandas as pd\n",
    "\n",
    "\n"
   ]
  },
  {
   "cell_type": "code",
   "execution_count": null,
   "metadata": {},
   "outputs": [],
   "source": [
    "\n",
    "# Opciones de archivos de entrada \n",
    "args = WorkflowInputs(\n",
    "    images=[\"./imagenes/espinaca.jpeg\"],\n",
    "    names=\"image\",\n",
    "    result=\"./res.csv\",\n",
    "    outdir=\".\",\n",
    "    writeimg=False,\n",
    "    debug=\"plot\"\n",
    "    )\n",
    "\n",
    "# Set debug to the global parameter \n",
    "pcv.params.debug = args.debug\n",
    "\n",
    "# Change display settings\n",
    "pcv.params.dpi = 170\n",
    "#pcv.params.text_size = 10\n",
    "#pcv.params.text_thickness = 20\n",
    "\n",
    "\n",
    "\n",
    "# Update params text size\n",
    "pcv.params.text_size=1\n",
    "pcv.params.text_thickness=1\n",
    "\n",
    "img, path, filename = pcv.readimage(filename=args.image)\n"
   ]
  },
  {
   "cell_type": "code",
   "execution_count": null,
   "metadata": {},
   "outputs": [],
   "source": [
    "# Spot the card and standarize image color\n",
    "card_mask = pcv.transform.detect_color_card(rgb_img=img, adaptive_method=1, block_size=31, radius=20)\n",
    "headers, card_matrix = pcv.transform.get_color_matrix(rgb_img=img, mask=card_mask)\n",
    "\n",
    "\n",
    "\n",
    "\n",
    "# Define the standard color card matrix, we know what the colors of those chips should be in an \"ideal\" image, \n",
    "# so we will correct to those values as the TARGET c\n",
    "# Look at where your white chip is in the image to determine which position your card is in (pos)\n",
    "\n",
    "#pos     = reference value indicating orientation of the color card. The reference\n",
    "       #         is based on the position of the white chip:\n",
    "        #        pos = 0: bottom-left corner\n",
    "        #        pos = 1: bottom-right corner\n",
    "        #        pos = 2: top-right corner\n",
    "        #        pos = 3: top-left corner\n",
    "\n",
    "std_color_matrix = pcv.transform.std_color_matrix(pos=3)\n",
    "\n",
    "img_cc = pcv.transform.affine_color_correction(rgb_img=img, \n",
    "                                               source_matrix=card_matrix,\n",
    "                                               target_matrix=std_color_matrix)\n",
    "\n",
    "pcv.plot_image(img_cc)"
   ]
  },
  {
   "cell_type": "markdown",
   "metadata": {},
   "source": [
    "## Sección 2. Segmentación e identificación de objetos"
   ]
  },
  {
   "cell_type": "markdown",
   "metadata": {},
   "source": [
    "### Visualización de los diversos espacios de color"
   ]
  },
  {
   "cell_type": "code",
   "execution_count": null,
   "metadata": {},
   "outputs": [],
   "source": [
    "# Inputs:\n",
    "#   rbg_img      = original image\n",
    "#   original_img = whether to include the original RGB images in the display: True (default) or False\n",
    "colorspace_img = pcv.visualize.colorspaces(rgb_img=img_cc)"
   ]
  },
  {
   "cell_type": "markdown",
   "metadata": {},
   "source": [
    "### Conversión de la imagen a escala de grises"
   ]
  },
  {
   "cell_type": "code",
   "execution_count": null,
   "metadata": {},
   "outputs": [],
   "source": [
    "# Inputs:\n",
    "#   rbg_img - original image\n",
    "#   channel - desired colorspace ('h', 's', or 'v')\n",
    "a_img = pcv.rgb2gray_hsv(rgb_img=img_cc, channel='s')\n"
   ]
  },
  {
   "cell_type": "code",
   "execution_count": null,
   "metadata": {
    "scrolled": true
   },
   "outputs": [],
   "source": [
    "#Binarize, remove salt and pepper, and fill areas\n",
    "\n",
    "th_otsu=pcv.threshold.otsu(gray_img=a_img, object_type='light')\n",
    "a_erode=pcv.erode(gray_img=th_otsu, ksize=2, i=1)\n",
    "a_dilation=pcv.dilate(gray_img=a_erode, ksize=2, i=1)\n",
    "mask_fill = pcv.fill(bin_img=a_dilation, size=1)\n",
    "mask_fill = pcv.fill_holes(bin_img=mask_fill)\n",
    "\n"
   ]
  },
  {
   "cell_type": "code",
   "execution_count": null,
   "metadata": {},
   "outputs": [],
   "source": [
    "#Image dimensions\n",
    "print(img_cc.shape)"
   ]
  },
  {
   "cell_type": "code",
   "execution_count": null,
   "metadata": {},
   "outputs": [],
   "source": [
    "#ROI rectangular\n",
    "\n",
    "roi1 = pcv.roi.rectangle(img=img_cc, x=400, y=0, h=700, w=600)\n",
    "\n"
   ]
  },
  {
   "cell_type": "code",
   "execution_count": null,
   "metadata": {
    "scrolled": true
   },
   "outputs": [],
   "source": [
    "kept_mask  = pcv.roi.filter(mask=mask_fill, roi=roi1, roi_type='partial')\n"
   ]
  },
  {
   "cell_type": "code",
   "execution_count": null,
   "metadata": {},
   "outputs": [],
   "source": [
    "# Watershed segmentation\n",
    "'''\n",
    "Parameters:\n",
    "rgb_img - RGB image data\n",
    "mask - Binary image, single channel, object in white and background black\n",
    "distance - Minimum distance of local maximum, lower values are more sensitive, and segments more objects (default: 10)\n",
    "label - Optional label parameter, modifies the variable name of observations recorded. (default = pcv.params.sample_label)\n",
    "'''\n",
    "watershed_labels=pcv.watershed_segmentation(rgb_img=img_cc, mask=kept_mask, distance=5)\n",
    "\n",
    "#Get the number of objects\n",
    "n_obj_wshed=np.unique(watershed_labels)[-1]-1\n",
    "\n",
    "# Note: Some merged seeds have been separated"
   ]
  },
  {
   "cell_type": "code",
   "execution_count": null,
   "metadata": {
    "scrolled": true
   },
   "outputs": [],
   "source": [
    "#Another option\n",
    "\n",
    "\n",
    "#Label the objects in your region of interest and number them\n",
    "#Each object should be a different color. If your objects are the same color and/or are touching, go back to your mask so that they are separate or it will treat them as a single object\n",
    "\n",
    "#    mask            = the clean mask you made above after making your ROI\n",
    "\n",
    "labeled_objects, n_obj = pcv.create_labels(mask=kept_mask)\n",
    "\n",
    "print(n_obj)\n",
    "\n",
    "img_semillas=pcv.apply_mask(img=img, mask=kept_mask,mask_color='white')"
   ]
  },
  {
   "cell_type": "markdown",
   "metadata": {},
   "source": [
    "## Sección 3. Análisis morfológico de semillas\n",
    "\n",
    "Para esto se necesita una máscara binaria completa\n",
    "\n",
    "\n",
    "### Identificación simple de objetos\n",
    "\n",
    "La máscara binaria se usa para encontrar objetos o contornos de cada una de las semillas. A diferencia de la función find_objects, esta aplicación usa la función findContours del programa OpenCV con la entrada cv2.RETR_EXTERNAL que ignora contornos en capas. La salida de este paso se puede usar para contar semillas, pero no se puede usar como entrada para análisis de color o forma."
   ]
  },
  {
   "cell_type": "code",
   "execution_count": null,
   "metadata": {
    "scrolled": true
   },
   "outputs": [],
   "source": [
    "############### Analysis ################ \n",
    "  \n",
    "# Find shape properties, data gets stored to an Outputs class automatically\n",
    "\n",
    "# Inputs:\n",
    "#   img - RGB or grayscale image data \n",
    "#   labeled_mask - the mask of each individual object, set by the create_labels function. \n",
    "#   n_labels - the number of objects, set by the create_labels function. \n",
    "\n",
    "analysis_image = pcv.analyze.size(img=img_cc, labeled_mask=watershed_labels, n_labels=n_obj_wshed)"
   ]
  },
  {
   "cell_type": "code",
   "execution_count": null,
   "metadata": {},
   "outputs": [],
   "source": [
    "#Manually Obtain morphological values \n",
    "chip_length=12 #mm\n",
    "\n",
    "avg_chip_size = pcv.outputs.metadata['median_color_chip_size']['value'][0] #px\n",
    "chip_width_px=pcv.outputs.metadata['median_color_chip_width']['value'][0] # px\n",
    "chip_height_px=pcv.outputs.metadata['median_color_chip_height']['value'][0] # px\n",
    "chip_length_avg=(chip_width_px+chip_height_px)/2 # cm\n",
    "ratio_length=chip_length/chip_length_avg \n",
    "\n",
    "ratio_area=(chip_length**2)/chip_length_avg**2\n",
    "#ratio_area=(chip_length**2)/avg_chip_size\n",
    "\n",
    "print(f'Área del chip en píxels: {avg_chip_size:.1f}')\n",
    "print(f'Altura del chip en píxeles: {chip_height_px:.2f}')\n",
    "print(f'Ancho del chip en píxeles: {chip_width_px:.2f}')\n",
    "print(f'Dimensión promedio del chip en píxeles: {chip_length_avg:.2f}')\n",
    "print(f'Relación mm/píxel de la longitud promedio del chip: {ratio_length:.4f}')\n",
    "print(f'Relación mm2/píxeles de la superficie del chip: {ratio_area:.6f}')"
   ]
  },
  {
   "cell_type": "code",
   "execution_count": null,
   "metadata": {},
   "outputs": [],
   "source": [
    "!pip install openpyxl"
   ]
  },
  {
   "cell_type": "code",
   "execution_count": null,
   "metadata": {
    "scrolled": true
   },
   "outputs": [],
   "source": [
    "# Define the column titles\n",
    "column_titles = ['archivo','n_obj','largo_mm', 'ancho_mm', 'area_mm2','perimetro_mm','solidez']\n",
    "\n",
    "# Create an empty DataFrame with the specified columns\n",
    "data = pd.DataFrame(columns=column_titles)\n",
    "\n",
    "\n",
    "for i in range(n_obj_wshed):\n",
    "    height=pcv.outputs.observations[f'default_{i+1}']['height']['value']*ratio_length\n",
    "    width=pcv.outputs.observations[f'default_{i+1}']['width']['value']*ratio_length\n",
    "    area = pcv.outputs.observations[f'default_{i+1}']['area']['value']*ratio_area\n",
    "    perimeter = pcv.outputs.observations[f'default_{i+1}']['perimeter']['value']*ratio_length\n",
    "    solidity = pcv.outputs.observations[f'default_{i+1}']['solidity']['value']\n",
    "    data.loc[i]= [filename,i,height,width,area,perimeter,solidity]\n",
    "    \n",
    "archivo='./res_semillas.xlsx'\n",
    "\n",
    "# Create the directory if it doesn't exist\n",
    "directory = os.path.dirname(archivo)\n",
    "if directory and not os.path.exists(directory):\n",
    "    os.makedirs(directory, exist_ok=True)\n",
    "\n",
    "\n",
    "# Convert columns to numeric, forcing errors to NaN, then round\n",
    "for col in ['largo_mm', 'ancho_mm', 'area_mm2','perimetro_mm','solidez']:\n",
    "    data[col] = pd.to_numeric(data[col], errors='coerce').map(lambda x: round(x, 2) if pd.notnull(x) else x)\n",
    "\n",
    "\n",
    "# Check if the file exists\n",
    "if os.path.exists(archivo):\n",
    "    # If the file exists, load the workbook and append to the 'Results' sheet if it exists\n",
    "    with pd.ExcelWriter(archivo, engine='openpyxl', mode='a', if_sheet_exists='overlay') as writer:\n",
    "        # Check if 'Results' sheet already exists\n",
    "        if 'Results' in writer.book.sheetnames:\n",
    "            # Get the maximum row in the existing sheet to append the new data below it\n",
    "            startrow = writer.sheets['Results'].max_row\n",
    "        else:\n",
    "            # If the 'Results' sheet does not exist, start from the first row\n",
    "            startrow = 0\n",
    "        # Write the DataFrame to the existing file, appending data if the sheet exists <----- Key procedure!\n",
    "        data.to_excel(writer, sheet_name='Results', header=startrow == 0, startrow=startrow, index=True)\n",
    "else:\n",
    "    # If the file does not exist, create it and write the data\n",
    "    with pd.ExcelWriter(archivo, engine='openpyxl') as writer:\n",
    "        data.to_excel(writer, sheet_name='Results', index=True)\n",
    "\n",
    "\n",
    "data\n"
   ]
  },
  {
   "cell_type": "code",
   "execution_count": null,
   "metadata": {},
   "outputs": [],
   "source": []
  },
  {
   "cell_type": "code",
   "execution_count": null,
   "metadata": {},
   "outputs": [],
   "source": []
  }
 ],
 "metadata": {
  "kernelspec": {
   "display_name": "Python 3 (ipykernel)",
   "language": "python",
   "name": "python3"
  },
  "language_info": {
   "codemirror_mode": {
    "name": "ipython",
    "version": 3
   },
   "file_extension": ".py",
   "mimetype": "text/x-python",
   "name": "python",
   "nbconvert_exporter": "python",
   "pygments_lexer": "ipython3",
   "version": "3.12.0"
  }
 },
 "nbformat": 4,
 "nbformat_minor": 4
}
