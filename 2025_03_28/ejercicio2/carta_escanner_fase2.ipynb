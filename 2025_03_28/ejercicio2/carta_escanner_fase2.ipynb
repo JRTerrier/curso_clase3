{
 "cells": [
  {
   "cell_type": "markdown",
   "metadata": {},
   "source": [
    "# FLUJO DE TRABAJO PARA ESTANDARIZACIÓN DE COLOR Y OBTENCIÓN DE VARIABLES MORFOLÓGICAS Y DE COLOR\n",
    "\n",
    "## FASE 2\n",
    "\n",
    "Aplicacion de los parámetros de la carta de color en imágenes nuevas\n"
   ]
  },
  {
   "cell_type": "markdown",
   "metadata": {},
   "source": [
    "# DESCRIPTION\n",
    "\n"
   ]
  },
  {
   "cell_type": "code",
   "execution_count": null,
   "metadata": {},
   "outputs": [],
   "source": [
    "# Import libraries\n",
    "\n",
    "import cv2\n",
    "import os\n",
    "import pandas as pd\n",
    "import math\n",
    "#%matplotlib widget\n",
    "import numpy as np\n",
    "from plantcv import plantcv as pcv\n",
    "from collections import Counter\n",
    "from plantcv.parallel import WorkflowInputs\n",
    "# Set global debug behavior to None (default), \"print\" (to file), \n",
    "# or \"plot\" (Jupyter Notebooks or X11)\n",
    "\n",
    "# HSV and CIE-Lab from RGB values\n",
    "from ConvRGBtoCIELab import ColorTrans,rgb2lab, rgb_to_hsv \n",
    "from utilities import convert_rgb_to_lab_hsv"
   ]
  },
  {
   "cell_type": "code",
   "execution_count": null,
   "metadata": {},
   "outputs": [],
   "source": [
    "# Input/output options IMG_4245\n",
    "args = WorkflowInputs(\n",
    "    #images=[\"img/color_image.jpg\"],    \n",
    "    images=[\"./img/arandano0001.jpg\"],   \n",
    "    names=\"image1\",\n",
    "    result=\"ml_tutorial_results.json\",\n",
    "    outdir=\"./res\",\n",
    "    writeimg=True,\n",
    "    debug=\"plot\"\n",
    "    )\n",
    "\n",
    "# Set debug to the global parameter \n",
    "pcv.params.debug = args.debug\n",
    "\n",
    "# Change display settings\n",
    "pcv.params.dpi = 170\n",
    "pcv.params.text_size = 2\n",
    "pcv.params.text_thickness = 2\n",
    "\n"
   ]
  },
  {
   "cell_type": "code",
   "execution_count": null,
   "metadata": {},
   "outputs": [],
   "source": [
    "#Load matrix\n",
    "\n",
    "loadfname_card = \"./params/cardcolor_matrix.npz\"\n",
    "\n",
    "card_matrix = pcv.transform.load_matrix(filename=loadfname_card)\n",
    "\n",
    "loadfname_std= \"./params/std_color_matrix.npz\"\n",
    "std_matrix = pcv.transform.load_matrix(filename=loadfname_std)\n"
   ]
  },
  {
   "cell_type": "code",
   "execution_count": null,
   "metadata": {},
   "outputs": [],
   "source": [
    "# Read in a color image \n",
    "\n",
    "# Inputs:\n",
    "#   filename - Image file to be read in \n",
    "#   mode - Return mode of image; either 'native' (default), 'rgb', 'gray', or 'csv' \n",
    "img, path, filename = pcv.readimage(filename=args.image1)\n",
    "\n"
   ]
  },
  {
   "cell_type": "code",
   "execution_count": null,
   "metadata": {},
   "outputs": [],
   "source": [
    "#Color correct your image to the standard values\n",
    "#look at the image - does the color look good? If it looks crazy, you probably don't have the card found well and need to go back and define the start and spacing for the card\n",
    "\n",
    "img_cc = pcv.transform.affine_color_correction(img, card_matrix, std_matrix)\n",
    "pcv.plot_image(img_cc)\n"
   ]
  },
  {
   "cell_type": "code",
   "execution_count": null,
   "metadata": {},
   "outputs": [],
   "source": [
    "# Inputs:\n",
    "#   rbg_img      = original image\n",
    "#   original_img = whether to include the original RGB images in the display: True (default) or False\n",
    "colorspace_img = pcv.visualize.colorspaces(rgb_img=img_cc)"
   ]
  },
  {
   "cell_type": "code",
   "execution_count": null,
   "metadata": {},
   "outputs": [],
   "source": [
    "#The good one\n",
    "channel = pcv.rgb2gray_lab(rgb_img=img_cc, channel='l')\n"
   ]
  },
  {
   "cell_type": "code",
   "execution_count": null,
   "metadata": {},
   "outputs": [],
   "source": [
    "#th_binary=pcv.threshold.binary(gray_img=k_channel, threshold=115, object_type=\"light\")\n",
    "th_binary = pcv.threshold.otsu(gray_img=channel, object_type='dark')"
   ]
  },
  {
   "cell_type": "code",
   "execution_count": null,
   "metadata": {},
   "outputs": [],
   "source": [
    "#Eliminación de ruido y agujeros en la máscara de la planta\n",
    "mask_fill = pcv.fill(bin_img=th_binary, size=200)\n",
    "mask_fill = pcv.fill_holes(bin_img=mask_fill)\n"
   ]
  },
  {
   "cell_type": "code",
   "execution_count": null,
   "metadata": {},
   "outputs": [],
   "source": [
    "\n",
    "roi1 = pcv.roi.rectangle(img=img_cc, x=200, y=200, h=1000, w=1000)\n"
   ]
  },
  {
   "cell_type": "code",
   "execution_count": null,
   "metadata": {},
   "outputs": [],
   "source": [
    "\n",
    "# Make a new filtered mask that only keeps the leaves in your ROI and not objects outside of the ROI\n",
    "# We have set to partial here so that if a leaf extends outside of your ROI it will still be selected. Switch to \"cutto\" if you have other plants that are getting selected on accident\n",
    "\n",
    "# Inputs:\n",
    "#    mask            = the clean mask you made above\n",
    "#    roi            = the region of interest you specified above\n",
    "#    roi_type       = 'partial' (default, for partially inside the ROI), 'cutto', or \n",
    "#                     'largest' (keep only largest contour)\n",
    "\n",
    "kept_mask  = pcv.roi.filter(mask=mask_fill, roi=roi1, roi_type='partial')\n",
    "\n"
   ]
  },
  {
   "cell_type": "code",
   "execution_count": null,
   "metadata": {
    "scrolled": true
   },
   "outputs": [],
   "source": [
    "#Se aplica la máscara a la imagen original para obtener solo la superficie de planta\n",
    "color_planta=pcv.apply_mask(img=img_cc, mask=kept_mask, mask_color='white')"
   ]
  },
  {
   "cell_type": "code",
   "execution_count": null,
   "metadata": {},
   "outputs": [],
   "source": [
    "\n",
    "#Establezca los valores de los parámetros de dimensiónes del chip\n",
    "\n",
    "chip_length_avg=95.16\n",
    "ratio_length=0.126097\n",
    "\n",
    "\n",
    "ratio_area=0.01590057\n",
    "\n",
    "\n",
    "# Define the column titles\n",
    "column_titles=['archivo','npenca','altura(mm)','ancho(mm)', 'área(mm2)', 'perímétro(mm)','solidez','redondez',\n",
    "               'r_plant_prom','g_plant_prom','b_plant_prom',\n",
    "               'lab-L','lab-a','lab-b','hsv-h','hsv-s','hsv-v']\n",
    "\n",
    "\n",
    "# Create an empty DataFrame with the specified columns\n",
    "data = pd.DataFrame(columns=column_titles)\n"
   ]
  },
  {
   "cell_type": "code",
   "execution_count": null,
   "metadata": {},
   "outputs": [],
   "source": [
    "\n",
    "def mask_and_reshape(img: np.ndarray) -> np.ndarray:\n",
    "    \"\"\"\n",
    "    Applies a filter to keep pixel values strictly between 0 and 255 (excl.) \n",
    "    and reshapes the image into a 2D array of shape (num_pixels, 3).\n",
    "    Returns the filtered (R,G,B) vector.\n",
    "    \"\"\"\n",
    "    # Reshape image to N x 3\n",
    "    rows, cols, layers = img.shape\n",
    "    vector = np.reshape(img, (rows * cols, -1))\n",
    "\n",
    "    # Keep only pixels that are strictly greater than 0 and less than 255\n",
    "    # in all three channels\n",
    "    mask = np.all((vector > 0) & (vector < 255), axis=1)\n",
    "    return vector[mask]\n",
    "\n",
    "\n",
    "def compute_color_stats(rgb_array: np.ndarray):\n",
    "    \"\"\"\n",
    "    Given a 2D array of shape (N, 3) with (R,G,B) values,\n",
    "    returns:\n",
    "      - mean_b, mean_g, mean_r\n",
    "      - mode_b, mode_g, mode_r\n",
    "    \"\"\"\n",
    "    mean_b = rgb_array[:, 0].mean()\n",
    "    mean_g = rgb_array[:, 1].mean()\n",
    "    mean_r = rgb_array[:, 2].mean()\n",
    "\n",
    "\n",
    "    return (mean_b, mean_g, mean_r)\n",
    "\n"
   ]
  },
  {
   "cell_type": "code",
   "execution_count": null,
   "metadata": {},
   "outputs": [],
   "source": [
    "# Copy gray image\n",
    "\n",
    "original = color_planta.copy()\n",
    "maskedonly = kept_mask.copy()\n",
    "\n",
    "# Canny edge detection\n",
    "canny_original = cv2.Canny(original, 120, 255, 1)\n",
    "kernel = np.ones((5, 5), np.uint8)\n",
    "dilate_original = cv2.dilate(canny_original, kernel, iterations=1)\n",
    "\n",
    "# Preprocess masked image\n",
    "blurred_maskedonly = cv2.GaussianBlur(maskedonly, (3, 3), 0)\n",
    "canny_maskedonly = cv2.Canny(blurred_maskedonly, 120, 255, 1)\n",
    "dilate_maskedonly = cv2.dilate(canny_maskedonly, kernel, iterations=1)\n",
    "\n",
    "# Find contours\n",
    "cnts = cv2.findContours(dilate_maskedonly, cv2.RETR_EXTERNAL, cv2.CHAIN_APPROX_SIMPLE)\n",
    "cnts = cnts[0] if len(cnts) == 2 else cnts[1]\n",
    "\n",
    "\n",
    "n_plant = 0\n",
    "\n",
    "for c in cnts:\n",
    "    list_val = []\n",
    "    n_plant += 1\n",
    "\n",
    "    # Basic info\n",
    "    list_val = [filename, n_plant]\n",
    "\n",
    "    # Bounding box\n",
    "    x, y, w, h = cv2.boundingRect(c)\n",
    "    cv2.rectangle(original, (x, y), (x + w, y + h), (0, 0, 0), 2)\n",
    "\n",
    "    # Slices of original, masked, etc.\n",
    "    ROI_orig = original[y:y+h, x:x+w]\n",
    "    ROI_mask = maskedonly[y:y+h, x:x+w]\n",
    "\n",
    "    # Visualization (optional)\n",
    "    pcv.plot_image(ROI_orig)\n",
    "    pcv.plot_image(ROI_mask)\n",
    "\n",
    "    # Shape analysis (size, perimeter, solidity, etc.)\n",
    "    analysis_image = pcv.analyze.size(\n",
    "        img=ROI_orig,\n",
    "        labeled_mask=ROI_mask,\n",
    "        n_labels=n_plant\n",
    "    )\n",
    "\n",
    "    height = pcv.outputs.observations['default_1']['height']['value'] * ratio_length\n",
    "    width = pcv.outputs.observations['default_1']['width']['value'] * ratio_length\n",
    "    area = pcv.outputs.observations['default_1']['area']['value'] * ratio_area\n",
    "    perimeter = pcv.outputs.observations['default_1']['perimeter']['value'] * ratio_length\n",
    "    solidity = pcv.outputs.observations['default_1']['solidity']['value']\n",
    "    roundness = (4 * math.pi * area) / (perimeter ** 2) if perimeter != 0 else 0\n",
    "\n",
    "    list_val.extend([height, width, area, perimeter, solidity, roundness])\n",
    "\n",
    "    # Color analysis on entire ROI\n",
    "    rgb_plant = mask_and_reshape(ROI_orig)\n",
    "    b_plant_prom, g_plant_prom, r_plant_prom = compute_color_stats(rgb_plant)\n",
    "\n",
    "    # Convert to Lab/HSV\n",
    "    rgb_triplet = (r_plant_prom, g_plant_prom, b_plant_prom)\n",
    "    lab_color, hsv_color = convert_rgb_to_lab_hsv(rgb_triplet)\n",
    "    lab = lab_color.tolist()\n",
    "    hsv = hsv_color.tolist()\n",
    "\n",
    "    list_val.extend([\n",
    "        r_plant_prom, g_plant_prom, b_plant_prom,\n",
    "        lab[0], lab[1], lab[2],\n",
    "        hsv[0], hsv[1], hsv[2]\n",
    "    ])\n",
    "\n",
    "    # Finally, add row to DataFrame\n",
    "    data.loc[len(data)] = list_val\n",
    "\n",
    "\n"
   ]
  },
  {
   "cell_type": "code",
   "execution_count": null,
   "metadata": {},
   "outputs": [],
   "source": [
    "#Opcional para ver los objetos y resultados del análisis con la función pcv.analyze.size \n",
    "# Save out data to file\n",
    "pcv.outputs.save_results(filename=\"./res/results_analyze_size.txt\", outformat=\"json\")"
   ]
  },
  {
   "cell_type": "code",
   "execution_count": null,
   "metadata": {},
   "outputs": [],
   "source": [
    "#Excel file\n",
    "archivo='./res/res_escanner.xlsx'\n",
    "\n",
    "# Create the directory if it doesn't exist\n",
    "directory = os.path.dirname(archivo)\n",
    "if directory and not os.path.exists(directory):\n",
    "    os.makedirs(directory, exist_ok=True)\n",
    "\n",
    "# Convert some columns to integers\n",
    "#data[['R','G','B','moda_r','moda_g','moda_b']] = data[['R','G','B','moda_r','moda_g','moda_b']].astype(int)\n",
    "\n",
    "\n",
    "# Check if the file exists\n",
    "if os.path.exists(archivo):\n",
    "    # If the file exists, load the workbook and append to the 'Results' sheet if it exists\n",
    "    with pd.ExcelWriter(archivo, engine='openpyxl', mode='a', if_sheet_exists='overlay') as writer:\n",
    "        # Check if 'Results' sheet already exists\n",
    "        if 'Results' in writer.book.sheetnames:\n",
    "            # Get the maximum row in the existing sheet to append the new data below it\n",
    "            startrow = writer.sheets['Results'].max_row\n",
    "        else:\n",
    "            # If the 'Results' sheet does not exist, start from the first row\n",
    "            startrow = 0\n",
    "        # Write the DataFrame to the existing file, appending data if the sheet exists\n",
    "        data.to_excel(writer, sheet_name='Results', header=startrow == 0, startrow=startrow, index=True)\n",
    "else:\n",
    "    # If the file does not exist, create it and write the data\n",
    "    with pd.ExcelWriter(archivo, engine='openpyxl') as writer:\n",
    "        data.to_excel(writer, sheet_name='Results', index=True)\n"
   ]
  },
  {
   "cell_type": "code",
   "execution_count": null,
   "metadata": {},
   "outputs": [],
   "source": []
  }
 ],
 "metadata": {
  "kernelspec": {
   "display_name": "Python 3 (ipykernel)",
   "language": "python",
   "name": "python3"
  },
  "language_info": {
   "codemirror_mode": {
    "name": "ipython",
    "version": 3
   },
   "file_extension": ".py",
   "mimetype": "text/x-python",
   "name": "python",
   "nbconvert_exporter": "python",
   "pygments_lexer": "ipython3",
   "version": "3.12.9"
  }
 },
 "nbformat": 4,
 "nbformat_minor": 4
}
