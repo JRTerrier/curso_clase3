{
 "cells": [
  {
   "cell_type": "markdown",
   "metadata": {
    "jp-MarkdownHeadingCollapsed": true
   },
   "source": [
    "# FLUJO DE TRABAJO PARA ESTANDARIZACIÓN DE COLOR Y OBTENCIÓN DE VARIABLES MORFOLÓGICAS Y DE COLOR\n",
    "\n",
    "## FASE 1.\n",
    "Obtención de las matrices para crear los archivos npz para usarlos en otras imágenes. También se obtiene el área, largo y ancho de los chips"
   ]
  },
  {
   "cell_type": "markdown",
   "metadata": {},
   "source": [
    "# DESCRIPTION\n",
    "\n"
   ]
  },
  {
   "cell_type": "code",
   "execution_count": null,
   "metadata": {},
   "outputs": [],
   "source": [
    "# Import libraries\n",
    "\n",
    "#import cv2\n",
    "#import os\n",
    "#import pandas as pd\n",
    "#import math\n",
    "#%matplotlib widget\n",
    "import numpy as np\n",
    "from plantcv import plantcv as pcv\n",
    "#from collections import Counter\n",
    "from plantcv.parallel import WorkflowInputs\n",
    "# Set global debug behavior to None (default), \"print\" (to file), \n",
    "# or \"plot\" (Jupyter Notebooks or X11)\n",
    "\n",
    "# HSV and CIE-Lab from RGB values\n",
    "#from ConvRGBtoCIELab import ColorTrans,rgb2lab, rgb_to_hsv \n",
    "#from utilities import convert_rgb_to_lab_hsv"
   ]
  },
  {
   "cell_type": "code",
   "execution_count": null,
   "metadata": {},
   "outputs": [],
   "source": [
    "# Input/output options IMG_4245\n",
    "args = WorkflowInputs(\n",
    "    #images=[\"img/color_image.jpg\"],    \n",
    "    images=[\"./img/colorchart.jpg\"],   \n",
    "    names=\"image1\",\n",
    "    result=\"ml_tutorial_results.json\",\n",
    "    outdir=\"./res\",\n",
    "    writeimg=True,\n",
    "    debug=\"plot\"\n",
    "    )\n",
    "\n",
    "# Set debug to the global parameter \n",
    "pcv.params.debug = args.debug\n",
    "\n",
    "# Change display settings\n",
    "pcv.params.dpi = 170\n",
    "pcv.params.text_size = 2\n",
    "pcv.params.text_thickness = 2\n",
    "\n"
   ]
  },
  {
   "cell_type": "code",
   "execution_count": null,
   "metadata": {},
   "outputs": [],
   "source": [
    "# Read color checker classic\n",
    "img_color, path_c,filename_c = pcv.readimage(filename=args.image1)\n",
    "# If your image is not straight, rotate it. \n",
    "\n",
    "rotate_img_c = pcv.transform.rotate(img_color, 90, False)\n",
    "\n"
   ]
  },
  {
   "cell_type": "code",
   "execution_count": null,
   "metadata": {},
   "outputs": [],
   "source": [
    "# OBTENCIÓN DE LAS MATRICES: card_matrix\n",
    "card_mask = pcv.transform.detect_color_card(rgb_img=rotate_img_c, adaptive_method=1, block_size=31, radius=40)\n",
    "\n",
    "headers, card_matrix = pcv.transform.get_color_matrix(rgb_img=rotate_img_c, mask=card_mask)\n",
    "\n",
    "\n",
    "\n",
    "# Define the standard color card matrix, we know what the colors of those chips should be in an \"ideal\" image, \n",
    "# so we will correct to those values as the TARGET\n",
    "# Look at where your white chip is in the image to determine which position your card is in (pos)\n",
    "\n",
    "#pos     = reference value indicating orientation of the color card. The reference\n",
    "       #         is based on the position of the white chip:\n",
    "        #        pos = 0: bottom-left corner\n",
    "        #        pos = 1: bottom-right corner\n",
    "        #        pos = 2: top-right corner\n",
    "        #        pos = 3: top-left corner\n",
    "\n",
    "std_color_matrix = pcv.transform.std_color_matrix(pos=3)"
   ]
  },
  {
   "cell_type": "code",
   "execution_count": null,
   "metadata": {},
   "outputs": [],
   "source": [
    "#Save matrix\n",
    "\n",
    "fname = \"./params/cardcolor_matrix.npz\"\n",
    "c_matrix = np.matrix(card_matrix)\n",
    "pcv.transform.save_matrix(matrix=c_matrix, filename=fname)\n",
    "\n",
    "fname2 = \"./params/std_color_matrix.npz\"\n",
    "std_matrix=np.matrix(std_color_matrix)\n",
    "pcv.transform.save_matrix(matrix=std_matrix, filename=fname2)"
   ]
  },
  {
   "cell_type": "code",
   "execution_count": null,
   "metadata": {},
   "outputs": [],
   "source": [
    "\n",
    "#Manually Obtain morphological values \n",
    "chip_length=12 #mm\n",
    "\n",
    "avg_chip_size = pcv.outputs.metadata['median_color_chip_size']['value'][0]\n",
    "chip_width_px = pcv.outputs.metadata['median_color_chip_width']['value'][0]  # px\n",
    "chip_height_px = pcv.outputs.metadata['median_color_chip_height']['value'][0]  # px\n",
    "\n",
    "chip_length_avg=(chip_width_px+chip_height_px)/2 # mm\n",
    "ratio_length=chip_length/chip_length_avg \n",
    "\n",
    "ratio_area=(chip_length**2)/chip_length_avg**2\n",
    "\n",
    "print(f'chip_length_avg: {chip_length_avg}')\n",
    "print(f'ratio_length: {ratio_length}')\n",
    "print(f'ratio_area: {ratio_area}')\n"
   ]
  },
  {
   "cell_type": "code",
   "execution_count": null,
   "metadata": {},
   "outputs": [],
   "source": []
  }
 ],
 "metadata": {
  "kernelspec": {
   "display_name": "Python 3 (ipykernel)",
   "language": "python",
   "name": "python3"
  },
  "language_info": {
   "codemirror_mode": {
    "name": "ipython",
    "version": 3
   },
   "file_extension": ".py",
   "mimetype": "text/x-python",
   "name": "python",
   "nbconvert_exporter": "python",
   "pygments_lexer": "ipython3",
   "version": "3.12.9"
  }
 },
 "nbformat": 4,
 "nbformat_minor": 4
}
